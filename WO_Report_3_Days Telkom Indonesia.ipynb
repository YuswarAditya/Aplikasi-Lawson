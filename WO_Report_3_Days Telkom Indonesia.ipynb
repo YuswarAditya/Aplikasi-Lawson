{
  "nbformat": 4,
  "nbformat_minor": 0,
  "metadata": {
    "colab": {
      "provenance": [],
      "collapsed_sections": [
        "lr0mRUs2J425",
        "uSKjn20yM_3z",
        "YWua5_KDXuL_",
        "q05YfUJAfy7r",
        "JsRSBWnXNCoE",
        "WQDSMMu0NHjB"
      ]
    },
    "kernelspec": {
      "name": "python3",
      "display_name": "Python 3"
    },
    "language_info": {
      "name": "python"
    }
  },
  "cells": [
    {
      "cell_type": "code",
      "source": [
        "from google.colab import drive\n",
        "drive.mount('/content/drive')"
      ],
      "metadata": {
        "colab": {
          "base_uri": "https://localhost:8080/"
        },
        "id": "Yix3tyKGFLGZ",
        "outputId": "1dc3adaa-676b-4669-a3c3-3b0aba17a48c"
      },
      "execution_count": null,
      "outputs": [
        {
          "output_type": "stream",
          "name": "stdout",
          "text": [
            "Mounted at /content/drive\n"
          ]
        }
      ]
    },
    {
      "cell_type": "markdown",
      "source": [
        "# **Packages & Modules**"
      ],
      "metadata": {
        "id": "lr0mRUs2J425"
      }
    },
    {
      "cell_type": "code",
      "execution_count": null,
      "metadata": {
        "id": "K57uSvcDHfYt"
      },
      "outputs": [],
      "source": [
        "import pandas as pd\n",
        "import numpy as np\n",
        "import datetime\n",
        "import openpyxl"
      ]
    },
    {
      "cell_type": "markdown",
      "source": [
        "# **Load Data**"
      ],
      "metadata": {
        "id": "uSKjn20yM_3z"
      }
    },
    {
      "cell_type": "code",
      "source": [
        "#declares the data\n",
        "#adjust the variabel with the data that will be processed\n",
        "#copy filepath each data\n",
        "data26_27 = '/content/drive/MyDrive/Magang/DRI Batch 5/Report WO per 3 days/Desember 2022/ORDER PROVISIONING SEMARANG (26, 27 Desember 2022).xlsx'\n",
        "data28_30 = '/content/drive/MyDrive/Magang/DRI Batch 5/Report WO per 3 days/Desember 2022/ORDER PROVISIONING SEMARANG (28, 29, 30 Desember 2022).xlsx'\n",
        "data31_2 = '/content/drive/MyDrive/Magang/DRI Batch 5/Report WO per 3 days/januari 2023/ORDER_PROVISIONING_SEMARANG_31_Desember_2022_1_Januari_2023.xlsx'"
      ],
      "metadata": {
        "id": "z6x9FK_cT0pT"
      },
      "execution_count": null,
      "outputs": []
    },
    {
      "cell_type": "markdown",
      "source": [
        "# **Function 1 day**"
      ],
      "metadata": {
        "id": "YWua5_KDXuL_"
      }
    },
    {
      "cell_type": "code",
      "source": [
        "#function that used for 1day data\n",
        "def getData1(data1_3):\n",
        "\n",
        "  #get ready data & get the name of sheet\n",
        "  data = data1_3\n",
        "  sheet = openpyxl.load_workbook(data).sheetnames[:3]\n",
        "  df1 = pd.read_excel(data,sheet[0])\n",
        "\n",
        "  #adjust name of columns\n",
        "  x = ['SC','TYPE','TYPE TRANSAKSI','NAMA|ALAMAT','KONTAK','STATUS SC','TEKNISI',\n",
        "      'MITRA','SN ONT','STATUS','QR CODE','PORT ODP','PANJANG DC (m)','QR ODP',\n",
        "      'AREA','JAM INPUT GD (JJ.MM)','TGL WO|TGL APPOINMENT','KETERANGAN']\n",
        "\n",
        "  #get data for first sheet\n",
        "  df = df1\n",
        "  date = sheet[0]\n",
        "  df.dropna(axis=0,how=\"all\")\n",
        "  #split data based on area\n",
        "  df_banyumanik = df.iloc[:,:18]\n",
        "  df_ungaran = df.iloc[:,19:37]\n",
        "  df_majapahit = df.iloc[:,38:56]\n",
        "  df_salatiga = df.iloc[:,57:75]\n",
        "  df_tugu = df.iloc[:,76:94]\n",
        "  df_johar = df.iloc[:,95:113]\n",
        "  df_candi = df.iloc[:,114:132]\n",
        "  df_simpangLima = df.iloc[:,133:151]\n",
        "  df_kendal = df.iloc[:,152:170]\n",
        "  #setting name of columns & and new column (teritori)\n",
        "  df_banyumanik.columns = x; df_banyumanik = df_banyumanik.dropna(axis=0,how=\"all\");df_banyumanik['TERITORI']=\"Banyumanik\"\n",
        "  df_ungaran.columns = x; df_ungaran= df_ungaran.dropna(axis=0,how=\"all\");df_ungaran['TERITORI']=\"Ungaran\"\n",
        "  df_majapahit.columns = x; df_majapahit = df_majapahit.dropna(axis=0,how=\"all\");df_majapahit['TERITORI']=\"Majapahit\"\n",
        "  df_salatiga.columns = x; df_salatiga= df_salatiga.dropna(axis=0,how=\"all\");df_salatiga['TERITORI']=\"Salatiga\"\n",
        "  df_tugu.columns = x; df_tugu = df_tugu.dropna(axis=0,how=\"all\");df_tugu['TERITORI']=\"Tugu\"\n",
        "  df_johar.columns = x; df_johar= df_johar.dropna(axis=0,how=\"all\");df_johar['TERITORI']=\"Johar\"\n",
        "  df_candi.columns = x; df_candi = df_candi.dropna(axis=0,how=\"all\");df_candi['TERITORI']=\"Candi\"\n",
        "  df_simpangLima.columns = x; df_simpangLima= df_simpangLima.dropna(axis=0,how=\"all\");df_simpangLima['TERITORI']=\"Simpang Lima\"\n",
        "  df_kendal.columns = x; df_kendal= df_kendal.dropna(axis=0,how=\"all\");df_kendal['TERITORI']=\"Kendal\"\n",
        "  #merge/join data based on area into one\n",
        "  merge = [df_banyumanik,df_ungaran,df_majapahit,df_salatiga,df_tugu,\n",
        "          df_johar,df_candi,df_simpangLima,df_kendal]\n",
        "  df1 = pd.concat(merge)\n",
        "  df1['DATE'] = date\n",
        "\n",
        "  df1 = df1[['TERITORI','DATE','SC','TYPE','TYPE TRANSAKSI','NAMA|ALAMAT','KONTAK','STATUS SC','TEKNISI',\n",
        "      'MITRA','SN ONT','STATUS','QR CODE','PORT ODP','PANJANG DC (m)','QR ODP',\n",
        "      'AREA','JAM INPUT GD (JJ.MM)','TGL WO|TGL APPOINMENT','KETERANGAN']]\n",
        "  #convert data type date column & split trim in area column\n",
        "  df1['DATE'] = pd.to_datetime(df1['DATE'],format='%d%m%Y')\n",
        "  df1['AREA'] = df1['AREA'].str.split('. ').str[-1]\n",
        "\n",
        "  return df1"
      ],
      "metadata": {
        "id": "SKhwyqYRXwcJ"
      },
      "execution_count": null,
      "outputs": []
    },
    {
      "cell_type": "markdown",
      "source": [
        "# **Function 2 days**"
      ],
      "metadata": {
        "id": "q05YfUJAfy7r"
      }
    },
    {
      "cell_type": "code",
      "source": [
        "#function that used for 2day data\n",
        "def getData2(data1_3):\n",
        "\n",
        "  #get ready data & get the name of sheet\n",
        "  data = data1_3\n",
        "  sheet = openpyxl.load_workbook(data).sheetnames[:3]\n",
        "  df1 = pd.read_excel(data,sheet[1])\n",
        "  df2 = pd.read_excel(data,sheet[0])\n",
        "\n",
        "  #adjust name of columns\n",
        "  x = ['SC','TYPE','TYPE TRANSAKSI','NAMA|ALAMAT','KONTAK','STATUS SC','TEKNISI',\n",
        "      'MITRA','SN ONT','STATUS','QR CODE','PORT ODP','PANJANG DC (m)','QR ODP',\n",
        "      'AREA','JAM INPUT GD (JJ.MM)','TGL WO|TGL APPOINMENT','KETERANGAN']\n",
        "\n",
        "  #get data for first sheet\n",
        "  df = df1\n",
        "  date = sheet[1]\n",
        "  df.dropna(axis=0,how=\"all\")\n",
        "  #split data based on area\n",
        "  df_banyumanik = df.iloc[:,:18]\n",
        "  df_ungaran = df.iloc[:,19:37]\n",
        "  df_majapahit = df.iloc[:,38:56]\n",
        "  df_salatiga = df.iloc[:,57:75]\n",
        "  df_tugu = df.iloc[:,76:94]\n",
        "  df_johar = df.iloc[:,95:113]\n",
        "  df_candi = df.iloc[:,114:132]\n",
        "  df_simpangLima = df.iloc[:,133:151]\n",
        "  df_kendal = df.iloc[:,152:170]\n",
        "  #setting name of columns & and new column (teritori)\n",
        "  df_banyumanik.columns = x; df_banyumanik = df_banyumanik.dropna(axis=0,how=\"all\");df_banyumanik['TERITORI']=\"Banyumanik\"\n",
        "  df_ungaran.columns = x; df_ungaran= df_ungaran.dropna(axis=0,how=\"all\");df_ungaran['TERITORI']=\"Ungaran\"\n",
        "  df_majapahit.columns = x; df_majapahit = df_majapahit.dropna(axis=0,how=\"all\");df_majapahit['TERITORI']=\"Majapahit\"\n",
        "  df_salatiga.columns = x; df_salatiga= df_salatiga.dropna(axis=0,how=\"all\");df_salatiga['TERITORI']=\"Salatiga\"\n",
        "  df_tugu.columns = x; df_tugu = df_tugu.dropna(axis=0,how=\"all\");df_tugu['TERITORI']=\"Tugu\"\n",
        "  df_johar.columns = x; df_johar= df_johar.dropna(axis=0,how=\"all\");df_johar['TERITORI']=\"Johar\"\n",
        "  df_candi.columns = x; df_candi = df_candi.dropna(axis=0,how=\"all\");df_candi['TERITORI']=\"Candi\"\n",
        "  df_simpangLima.columns = x; df_simpangLima= df_simpangLima.dropna(axis=0,how=\"all\");df_simpangLima['TERITORI']=\"Simpang Lima\"\n",
        "  df_kendal.columns = x; df_kendal= df_kendal.dropna(axis=0,how=\"all\");df_kendal['TERITORI']=\"Kendal\"\n",
        "  #merge/join data based on area into one\n",
        "  merge = [df_banyumanik,df_ungaran,df_majapahit,df_salatiga,df_tugu,\n",
        "          df_johar,df_candi,df_simpangLima,df_kendal]\n",
        "  df1 = pd.concat(merge)\n",
        "  df1['DATE'] = date\n",
        "\n",
        "  #get data for second sheet\n",
        "  df = df2\n",
        "  date = sheet[0]\n",
        "  df.dropna(axis=0,how=\"all\")\n",
        "  #split data based on area\n",
        "  df_banyumanik = df.iloc[:,:18]\n",
        "  df_ungaran = df.iloc[:,19:37]\n",
        "  df_majapahit = df.iloc[:,38:56]\n",
        "  df_salatiga = df.iloc[:,57:75]\n",
        "  df_tugu = df.iloc[:,76:94]\n",
        "  df_johar = df.iloc[:,95:113]\n",
        "  df_candi = df.iloc[:,114:132]\n",
        "  df_simpangLima = df.iloc[:,133:151]\n",
        "  df_kendal = df.iloc[:,152:170]\n",
        "  #setting name of columns & and new column (teritori)\n",
        "  df_banyumanik.columns = x; df_banyumanik = df_banyumanik.dropna(axis=0,how=\"all\");df_banyumanik['TERITORI']=\"Banyumanik\"\n",
        "  df_ungaran.columns = x; df_ungaran= df_ungaran.dropna(axis=0,how=\"all\");df_ungaran['TERITORI']=\"Ungaran\"\n",
        "  df_majapahit.columns = x; df_majapahit = df_majapahit.dropna(axis=0,how=\"all\");df_majapahit['TERITORI']=\"Majapahit\"\n",
        "  df_salatiga.columns = x; df_salatiga= df_salatiga.dropna(axis=0,how=\"all\");df_salatiga['TERITORI']=\"Salatiga\"\n",
        "  df_tugu.columns = x; df_tugu = df_tugu.dropna(axis=0,how=\"all\");df_tugu['TERITORI']=\"Tugu\"\n",
        "  df_johar.columns = x; df_johar= df_johar.dropna(axis=0,how=\"all\");df_johar['TERITORI']=\"Johar\"\n",
        "  df_candi.columns = x; df_candi = df_candi.dropna(axis=0,how=\"all\");df_candi['TERITORI']=\"Candi\"\n",
        "  df_simpangLima.columns = x; df_simpangLima= df_simpangLima.dropna(axis=0,how=\"all\");df_simpangLima['TERITORI']=\"Simpang Lima\"\n",
        "  df_kendal.columns = x; df_kendal= df_kendal.dropna(axis=0,how=\"all\");df_kendal['TERITORI']=\"Kendal\"\n",
        "  #merge/join data based on area into one\n",
        "  merge = [df_banyumanik,df_ungaran,df_majapahit,df_salatiga,df_tugu,\n",
        "          df_johar,df_candi,df_simpangLima,df_kendal]\n",
        "  df2 = pd.concat(merge)\n",
        "  df2['DATE'] = date\n",
        "\n",
        "  #merge data of all sheet\n",
        "  merge = [df1,df2]\n",
        "  data = pd.concat(merge)\n",
        "  data = data[['TERITORI','DATE','SC','TYPE','TYPE TRANSAKSI','NAMA|ALAMAT','KONTAK','STATUS SC','TEKNISI',\n",
        "      'MITRA','SN ONT','STATUS','QR CODE','PORT ODP','PANJANG DC (m)','QR ODP',\n",
        "      'AREA','JAM INPUT GD (JJ.MM)','TGL WO|TGL APPOINMENT','KETERANGAN']]\n",
        "  #convert data type date column & split trim in area column\n",
        "  data['DATE'] = pd.to_datetime(data['DATE'],format='%d%m%Y')\n",
        "  data['AREA'] = data['AREA'].str.split('. ').str[-1]\n",
        "  df1_2 = data\n",
        "\n",
        "  return df1_2"
      ],
      "metadata": {
        "id": "r-XgSFu4f13d"
      },
      "execution_count": null,
      "outputs": []
    },
    {
      "cell_type": "markdown",
      "source": [
        "# **Function 3 days**"
      ],
      "metadata": {
        "id": "JsRSBWnXNCoE"
      }
    },
    {
      "cell_type": "code",
      "source": [
        "#function that used for 1day data\n",
        "def getData3(data1_3):\n",
        "\n",
        "  #get ready data & get the name of sheet\n",
        "  data = data1_3\n",
        "  sheet = openpyxl.load_workbook(data).sheetnames[:3]\n",
        "  df1 = pd.read_excel(data,sheet[2])\n",
        "  df2 = pd.read_excel(data,sheet[1])\n",
        "  df3 = pd.read_excel(data,sheet[0])\n",
        "\n",
        "  #adjust name of columns\n",
        "  x = ['SC','TYPE','TYPE TRANSAKSI','NAMA|ALAMAT','KONTAK','STATUS SC','TEKNISI',\n",
        "      'MITRA','SN ONT','STATUS','QR CODE','PORT ODP','PANJANG DC (m)','QR ODP',\n",
        "      'AREA','JAM INPUT GD (JJ.MM)','TGL WO|TGL APPOINMENT','KETERANGAN']\n",
        "\n",
        "  #get data for first sheet\n",
        "  df = df1\n",
        "  date = sheet[2]\n",
        "  df.dropna(axis=0,how=\"all\")\n",
        "  #split data based on area\n",
        "  df_banyumanik = df.iloc[:,:18]\n",
        "  df_ungaran = df.iloc[:,19:37]\n",
        "  df_majapahit = df.iloc[:,38:56]\n",
        "  df_salatiga = df.iloc[:,57:75]\n",
        "  df_tugu = df.iloc[:,76:94]\n",
        "  df_johar = df.iloc[:,95:113]\n",
        "  df_candi = df.iloc[:,114:132]\n",
        "  df_simpangLima = df.iloc[:,133:151]\n",
        "  df_kendal = df.iloc[:,152:170]\n",
        "  #setting name of columns & and new column (teritori)\n",
        "  df_banyumanik.columns = x; df_banyumanik = df_banyumanik.dropna(axis=0,how=\"all\");df_banyumanik['TERITORI']=\"Banyumanik\"\n",
        "  df_ungaran.columns = x; df_ungaran= df_ungaran.dropna(axis=0,how=\"all\");df_ungaran['TERITORI']=\"Ungaran\"\n",
        "  df_majapahit.columns = x; df_majapahit = df_majapahit.dropna(axis=0,how=\"all\");df_majapahit['TERITORI']=\"Majapahit\"\n",
        "  df_salatiga.columns = x; df_salatiga= df_salatiga.dropna(axis=0,how=\"all\");df_salatiga['TERITORI']=\"Salatiga\"\n",
        "  df_tugu.columns = x; df_tugu = df_tugu.dropna(axis=0,how=\"all\");df_tugu['TERITORI']=\"Tugu\"\n",
        "  df_johar.columns = x; df_johar= df_johar.dropna(axis=0,how=\"all\");df_johar['TERITORI']=\"Johar\"\n",
        "  df_candi.columns = x; df_candi = df_candi.dropna(axis=0,how=\"all\");df_candi['TERITORI']=\"Candi\"\n",
        "  df_simpangLima.columns = x; df_simpangLima= df_simpangLima.dropna(axis=0,how=\"all\");df_simpangLima['TERITORI']=\"Simpang Lima\"\n",
        "  df_kendal.columns = x; df_kendal= df_kendal.dropna(axis=0,how=\"all\");df_kendal['TERITORI']=\"Kendal\"\n",
        "  #merge/join data based on area into one\n",
        "  merge = [df_banyumanik,df_ungaran,df_majapahit,df_salatiga,df_tugu,\n",
        "          df_johar,df_candi,df_simpangLima,df_kendal]\n",
        "  df1 = pd.concat(merge)\n",
        "  df1['DATE'] = date\n",
        "\n",
        "  #get data for first sheet\n",
        "  df = df2\n",
        "  date = sheet[1]\n",
        "  df.dropna(axis=0,how=\"all\")\n",
        "  #split data based on area\n",
        "  df_banyumanik = df.iloc[:,:18]\n",
        "  df_ungaran = df.iloc[:,19:37]\n",
        "  df_majapahit = df.iloc[:,38:56]\n",
        "  df_salatiga = df.iloc[:,57:75]\n",
        "  df_tugu = df.iloc[:,76:94]\n",
        "  df_johar = df.iloc[:,95:113]\n",
        "  df_candi = df.iloc[:,114:132]\n",
        "  df_simpangLima = df.iloc[:,133:151]\n",
        "  df_kendal = df.iloc[:,152:170]\n",
        "  #setting name of columns & and new column (teritori)\n",
        "  df_banyumanik.columns = x; df_banyumanik = df_banyumanik.dropna(axis=0,how=\"all\");df_banyumanik['TERITORI']=\"Banyumanik\"\n",
        "  df_ungaran.columns = x; df_ungaran= df_ungaran.dropna(axis=0,how=\"all\");df_ungaran['TERITORI']=\"Ungaran\"\n",
        "  df_majapahit.columns = x; df_majapahit = df_majapahit.dropna(axis=0,how=\"all\");df_majapahit['TERITORI']=\"Majapahit\"\n",
        "  df_salatiga.columns = x; df_salatiga= df_salatiga.dropna(axis=0,how=\"all\");df_salatiga['TERITORI']=\"Salatiga\"\n",
        "  df_tugu.columns = x; df_tugu = df_tugu.dropna(axis=0,how=\"all\");df_tugu['TERITORI']=\"Tugu\"\n",
        "  df_johar.columns = x; df_johar= df_johar.dropna(axis=0,how=\"all\");df_johar['TERITORI']=\"Johar\"\n",
        "  df_candi.columns = x; df_candi = df_candi.dropna(axis=0,how=\"all\");df_candi['TERITORI']=\"Candi\"\n",
        "  df_simpangLima.columns = x; df_simpangLima= df_simpangLima.dropna(axis=0,how=\"all\");df_simpangLima['TERITORI']=\"Simpang Lima\"\n",
        "  df_kendal.columns = x; df_kendal= df_kendal.dropna(axis=0,how=\"all\");df_kendal['TERITORI']=\"Kendal\"\n",
        "  #merge/join data based on area into one\n",
        "  merge = [df_banyumanik,df_ungaran,df_majapahit,df_salatiga,df_tugu,\n",
        "          df_johar,df_candi,df_simpangLima,df_kendal]\n",
        "  df2 = pd.concat(merge)\n",
        "  df2['DATE'] = date\n",
        "\n",
        "  #get data for first sheet\n",
        "  df = df3\n",
        "  date = sheet[0]\n",
        "  df.dropna(axis=0,how=\"all\")\n",
        "  #split data based on area\n",
        "  df_banyumanik = df.iloc[:,:18]\n",
        "  df_ungaran = df.iloc[:,19:37]\n",
        "  df_majapahit = df.iloc[:,38:56]\n",
        "  df_salatiga = df.iloc[:,57:75]\n",
        "  df_tugu = df.iloc[:,76:94]\n",
        "  df_johar = df.iloc[:,95:113]\n",
        "  df_candi = df.iloc[:,114:132]\n",
        "  df_simpangLima = df.iloc[:,133:151]\n",
        "  df_kendal = df.iloc[:,152:170]\n",
        "  #setting name of columns & and new column (teritori)\n",
        "  df_banyumanik.columns = x; df_banyumanik = df_banyumanik.dropna(axis=0,how=\"all\");df_banyumanik['TERITORI']=\"Banyumanik\"\n",
        "  df_ungaran.columns = x; df_ungaran= df_ungaran.dropna(axis=0,how=\"all\");df_ungaran['TERITORI']=\"Ungaran\"\n",
        "  df_majapahit.columns = x; df_majapahit = df_majapahit.dropna(axis=0,how=\"all\");df_majapahit['TERITORI']=\"Majapahit\"\n",
        "  df_salatiga.columns = x; df_salatiga= df_salatiga.dropna(axis=0,how=\"all\");df_salatiga['TERITORI']=\"Salatiga\"\n",
        "  df_tugu.columns = x; df_tugu = df_tugu.dropna(axis=0,how=\"all\");df_tugu['TERITORI']=\"Tugu\"\n",
        "  df_johar.columns = x; df_johar= df_johar.dropna(axis=0,how=\"all\");df_johar['TERITORI']=\"Johar\"\n",
        "  df_candi.columns = x; df_candi = df_candi.dropna(axis=0,how=\"all\");df_candi['TERITORI']=\"Candi\"\n",
        "  df_simpangLima.columns = x; df_simpangLima= df_simpangLima.dropna(axis=0,how=\"all\");df_simpangLima['TERITORI']=\"Simpang Lima\"\n",
        "  df_kendal.columns = x; df_kendal= df_kendal.dropna(axis=0,how=\"all\");df_kendal['TERITORI']=\"Kendal\"\n",
        "  #merge/join data based on area into one\n",
        "  merge = [df_banyumanik,df_ungaran,df_majapahit,df_salatiga,df_tugu,\n",
        "          df_johar,df_candi,df_simpangLima,df_kendal]\n",
        "  df3 = pd.concat(merge)\n",
        "  df3['DATE'] = date\n",
        "\n",
        "  #merge data of all sheet\n",
        "  merge = [df1,df2,df3]\n",
        "  data = pd.concat(merge)\n",
        "  data = data[['TERITORI','DATE','SC','TYPE','TYPE TRANSAKSI','NAMA|ALAMAT','KONTAK','STATUS SC','TEKNISI',\n",
        "      'MITRA','SN ONT','STATUS','QR CODE','PORT ODP','PANJANG DC (m)','QR ODP',\n",
        "      'AREA','JAM INPUT GD (JJ.MM)','TGL WO|TGL APPOINMENT','KETERANGAN']]\n",
        "  #convert data type date column & split trim in area column\n",
        "  data['DATE'] = pd.to_datetime(data['DATE'],format='%d%m%Y')\n",
        "  data['AREA'] = data['AREA'].str.split('. ').str[-1]\n",
        "  df1_3 = data\n",
        "\n",
        "\n",
        "  return df1_3"
      ],
      "metadata": {
        "id": "cgFe_KQmEWBY"
      },
      "execution_count": null,
      "outputs": []
    },
    {
      "cell_type": "markdown",
      "source": [
        "# **Execute**"
      ],
      "metadata": {
        "id": "WQDSMMu0NHjB"
      }
    },
    {
      "cell_type": "code",
      "source": [
        "#execute the function into each data\n",
        "#adjust the function with the data will be processed\n",
        "df1 = getData2(data26_27)\n",
        "df2 = getData3(data28_30)\n",
        "df3 = getData3(data31_2)\n",
        "#merge/join data\n",
        "#[df1_3,df4_6,df7_9,df10_12,df13_15,df16_18,df19_21,df22_24,df25_27,df28_30]\n",
        "merge = [df1,df2,df3]\n",
        "data = pd.concat(merge)\n",
        "data['DATE'] = pd.to_datetime(data['DATE'],format='%d%m%Y')\n",
        "data.info()"
      ],
      "metadata": {
        "id": "PWmC4p3s-6A7",
        "colab": {
          "base_uri": "https://localhost:8080/"
        },
        "outputId": "4b178da6-1b02-493c-eb84-229e0ac78fb6"
      },
      "execution_count": null,
      "outputs": [
        {
          "output_type": "stream",
          "name": "stdout",
          "text": [
            "<class 'pandas.core.frame.DataFrame'>\n",
            "Int64Index: 1364 entries, 1 to 43\n",
            "Data columns (total 20 columns):\n",
            " #   Column                 Non-Null Count  Dtype         \n",
            "---  ------                 --------------  -----         \n",
            " 0   TERITORI               1364 non-null   object        \n",
            " 1   DATE                   1364 non-null   datetime64[ns]\n",
            " 2   SC                     754 non-null    object        \n",
            " 3   TYPE                   1363 non-null   object        \n",
            " 4   TYPE TRANSAKSI         1363 non-null   object        \n",
            " 5   NAMA|ALAMAT            1363 non-null   object        \n",
            " 6   KONTAK                 1362 non-null   object        \n",
            " 7   STATUS SC              612 non-null    object        \n",
            " 8   TEKNISI                1363 non-null   object        \n",
            " 9   MITRA                  1338 non-null   object        \n",
            " 10  SN ONT                 754 non-null    object        \n",
            " 11  STATUS                 1317 non-null   object        \n",
            " 12  QR CODE                670 non-null    object        \n",
            " 13  PORT ODP               578 non-null    float64       \n",
            " 14  PANJANG DC (m)         578 non-null    object        \n",
            " 15  QR ODP                 578 non-null    object        \n",
            " 16  AREA                   1363 non-null   object        \n",
            " 17  JAM INPUT GD (JJ.MM)   1363 non-null   float64       \n",
            " 18  TGL WO|TGL APPOINMENT  1363 non-null   object        \n",
            " 19  KETERANGAN             1359 non-null   object        \n",
            "dtypes: datetime64[ns](1), float64(2), object(17)\n",
            "memory usage: 223.8+ KB\n"
          ]
        }
      ]
    },
    {
      "cell_type": "code",
      "source": [
        "#save the result into csv & excel file\n",
        "#that will be processed in next step (cleansing)\n",
        "data.to_csv(\"des26_jan2.csv\",index=False)"
      ],
      "metadata": {
        "id": "iiAtgGxIiqRT"
      },
      "execution_count": null,
      "outputs": []
    },
    {
      "cell_type": "code",
      "source": [],
      "metadata": {
        "id": "ohZvTmFd6HQA"
      },
      "execution_count": null,
      "outputs": []
    }
  ]
}
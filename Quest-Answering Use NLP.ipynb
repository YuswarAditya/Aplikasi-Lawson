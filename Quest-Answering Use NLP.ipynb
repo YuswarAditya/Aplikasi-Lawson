{
  "cells": [
    {
      "cell_type": "code",
      "execution_count": null,
      "metadata": {
        "colab": {
          "base_uri": "https://localhost:8080/"
        },
        "id": "v-TFj06jscWP",
        "outputId": "c3c67886-8ca7-48b6-8490-07728c45a6f8"
      },
      "outputs": [
        {
          "output_type": "stream",
          "name": "stdout",
          "text": [
            "Drive already mounted at /content/drive; to attempt to forcibly remount, call drive.mount(\"/content/drive\", force_remount=True).\n"
          ]
        }
      ],
      "source": [
        " from google.colab import drive\n",
        " drive.mount('/content/drive')\n",
        " import sys\n",
        " sys.path.append('/content/drive/My Drive/Colab Notebooks')"
      ]
    },
    {
      "cell_type": "code",
      "execution_count": null,
      "metadata": {
        "colab": {
          "base_uri": "https://localhost:8080/"
        },
        "id": "yfnzfxqysor-",
        "outputId": "9aea0482-fcfb-4532-8f83-0ed6a1fc4670"
      },
      "outputs": [
        {
          "output_type": "execute_result",
          "data": {
            "text/plain": [
              "PosixPath('/content')"
            ]
          },
          "metadata": {},
          "execution_count": 2
        }
      ],
      "source": [
        "import pathlib\n",
        "pathlib.Path().resolve()"
      ]
    },
    {
      "cell_type": "code",
      "execution_count": null,
      "metadata": {
        "id": "g8Av8_D7srlb"
      },
      "outputs": [],
      "source": [
        "sample = '/content/drive/My Drive/Colab Notebooks/umkm'"
      ]
    },
    {
      "cell_type": "code",
      "execution_count": null,
      "metadata": {
        "colab": {
          "base_uri": "https://localhost:8080/"
        },
        "id": "tFl5t42ifNit",
        "outputId": "26993581-ee12-4504-a2c6-9648183115c3"
      },
      "outputs": [
        {
          "output_type": "stream",
          "name": "stdout",
          "text": [
            "Requirement already satisfied: tensorflow in /usr/local/lib/python3.10/dist-packages (2.12.0)\n",
            "Requirement already satisfied: absl-py>=1.0.0 in /usr/local/lib/python3.10/dist-packages (from tensorflow) (1.4.0)\n",
            "Requirement already satisfied: astunparse>=1.6.0 in /usr/local/lib/python3.10/dist-packages (from tensorflow) (1.6.3)\n",
            "Requirement already satisfied: flatbuffers>=2.0 in /usr/local/lib/python3.10/dist-packages (from tensorflow) (23.5.26)\n",
            "Requirement already satisfied: gast<=0.4.0,>=0.2.1 in /usr/local/lib/python3.10/dist-packages (from tensorflow) (0.4.0)\n",
            "Requirement already satisfied: google-pasta>=0.1.1 in /usr/local/lib/python3.10/dist-packages (from tensorflow) (0.2.0)\n",
            "Requirement already satisfied: grpcio<2.0,>=1.24.3 in /usr/local/lib/python3.10/dist-packages (from tensorflow) (1.56.0)\n",
            "Requirement already satisfied: h5py>=2.9.0 in /usr/local/lib/python3.10/dist-packages (from tensorflow) (3.8.0)\n",
            "Requirement already satisfied: jax>=0.3.15 in /usr/local/lib/python3.10/dist-packages (from tensorflow) (0.4.13)\n",
            "Requirement already satisfied: keras<2.13,>=2.12.0 in /usr/local/lib/python3.10/dist-packages (from tensorflow) (2.12.0)\n",
            "Requirement already satisfied: libclang>=13.0.0 in /usr/local/lib/python3.10/dist-packages (from tensorflow) (16.0.0)\n",
            "Requirement already satisfied: numpy<1.24,>=1.22 in /usr/local/lib/python3.10/dist-packages (from tensorflow) (1.22.4)\n",
            "Requirement already satisfied: opt-einsum>=2.3.2 in /usr/local/lib/python3.10/dist-packages (from tensorflow) (3.3.0)\n",
            "Requirement already satisfied: packaging in /usr/local/lib/python3.10/dist-packages (from tensorflow) (23.1)\n",
            "Requirement already satisfied: protobuf!=4.21.0,!=4.21.1,!=4.21.2,!=4.21.3,!=4.21.4,!=4.21.5,<5.0.0dev,>=3.20.3 in /usr/local/lib/python3.10/dist-packages (from tensorflow) (3.20.3)\n",
            "Requirement already satisfied: setuptools in /usr/local/lib/python3.10/dist-packages (from tensorflow) (67.7.2)\n",
            "Requirement already satisfied: six>=1.12.0 in /usr/local/lib/python3.10/dist-packages (from tensorflow) (1.16.0)\n",
            "Requirement already satisfied: tensorboard<2.13,>=2.12 in /usr/local/lib/python3.10/dist-packages (from tensorflow) (2.12.3)\n",
            "Requirement already satisfied: tensorflow-estimator<2.13,>=2.12.0 in /usr/local/lib/python3.10/dist-packages (from tensorflow) (2.12.0)\n",
            "Requirement already satisfied: termcolor>=1.1.0 in /usr/local/lib/python3.10/dist-packages (from tensorflow) (2.3.0)\n",
            "Requirement already satisfied: typing-extensions>=3.6.6 in /usr/local/lib/python3.10/dist-packages (from tensorflow) (4.7.1)\n",
            "Requirement already satisfied: wrapt<1.15,>=1.11.0 in /usr/local/lib/python3.10/dist-packages (from tensorflow) (1.14.1)\n",
            "Requirement already satisfied: tensorflow-io-gcs-filesystem>=0.23.1 in /usr/local/lib/python3.10/dist-packages (from tensorflow) (0.32.0)\n",
            "Requirement already satisfied: wheel<1.0,>=0.23.0 in /usr/local/lib/python3.10/dist-packages (from astunparse>=1.6.0->tensorflow) (0.40.0)\n",
            "Requirement already satisfied: ml-dtypes>=0.1.0 in /usr/local/lib/python3.10/dist-packages (from jax>=0.3.15->tensorflow) (0.2.0)\n",
            "Requirement already satisfied: scipy>=1.7 in /usr/local/lib/python3.10/dist-packages (from jax>=0.3.15->tensorflow) (1.10.1)\n",
            "Requirement already satisfied: google-auth<3,>=1.6.3 in /usr/local/lib/python3.10/dist-packages (from tensorboard<2.13,>=2.12->tensorflow) (2.17.3)\n",
            "Requirement already satisfied: google-auth-oauthlib<1.1,>=0.5 in /usr/local/lib/python3.10/dist-packages (from tensorboard<2.13,>=2.12->tensorflow) (1.0.0)\n",
            "Requirement already satisfied: markdown>=2.6.8 in /usr/local/lib/python3.10/dist-packages (from tensorboard<2.13,>=2.12->tensorflow) (3.4.3)\n",
            "Requirement already satisfied: requests<3,>=2.21.0 in /usr/local/lib/python3.10/dist-packages (from tensorboard<2.13,>=2.12->tensorflow) (2.27.1)\n",
            "Requirement already satisfied: tensorboard-data-server<0.8.0,>=0.7.0 in /usr/local/lib/python3.10/dist-packages (from tensorboard<2.13,>=2.12->tensorflow) (0.7.1)\n",
            "Requirement already satisfied: werkzeug>=1.0.1 in /usr/local/lib/python3.10/dist-packages (from tensorboard<2.13,>=2.12->tensorflow) (2.3.6)\n",
            "Requirement already satisfied: cachetools<6.0,>=2.0.0 in /usr/local/lib/python3.10/dist-packages (from google-auth<3,>=1.6.3->tensorboard<2.13,>=2.12->tensorflow) (5.3.1)\n",
            "Requirement already satisfied: pyasn1-modules>=0.2.1 in /usr/local/lib/python3.10/dist-packages (from google-auth<3,>=1.6.3->tensorboard<2.13,>=2.12->tensorflow) (0.3.0)\n",
            "Requirement already satisfied: rsa<5,>=3.1.4 in /usr/local/lib/python3.10/dist-packages (from google-auth<3,>=1.6.3->tensorboard<2.13,>=2.12->tensorflow) (4.9)\n",
            "Requirement already satisfied: requests-oauthlib>=0.7.0 in /usr/local/lib/python3.10/dist-packages (from google-auth-oauthlib<1.1,>=0.5->tensorboard<2.13,>=2.12->tensorflow) (1.3.1)\n",
            "Requirement already satisfied: urllib3<1.27,>=1.21.1 in /usr/local/lib/python3.10/dist-packages (from requests<3,>=2.21.0->tensorboard<2.13,>=2.12->tensorflow) (1.26.16)\n",
            "Requirement already satisfied: certifi>=2017.4.17 in /usr/local/lib/python3.10/dist-packages (from requests<3,>=2.21.0->tensorboard<2.13,>=2.12->tensorflow) (2023.5.7)\n",
            "Requirement already satisfied: charset-normalizer~=2.0.0 in /usr/local/lib/python3.10/dist-packages (from requests<3,>=2.21.0->tensorboard<2.13,>=2.12->tensorflow) (2.0.12)\n",
            "Requirement already satisfied: idna<4,>=2.5 in /usr/local/lib/python3.10/dist-packages (from requests<3,>=2.21.0->tensorboard<2.13,>=2.12->tensorflow) (3.4)\n",
            "Requirement already satisfied: MarkupSafe>=2.1.1 in /usr/local/lib/python3.10/dist-packages (from werkzeug>=1.0.1->tensorboard<2.13,>=2.12->tensorflow) (2.1.3)\n",
            "Requirement already satisfied: pyasn1<0.6.0,>=0.4.6 in /usr/local/lib/python3.10/dist-packages (from pyasn1-modules>=0.2.1->google-auth<3,>=1.6.3->tensorboard<2.13,>=2.12->tensorflow) (0.5.0)\n",
            "Requirement already satisfied: oauthlib>=3.0.0 in /usr/local/lib/python3.10/dist-packages (from requests-oauthlib>=0.7.0->google-auth-oauthlib<1.1,>=0.5->tensorboard<2.13,>=2.12->tensorflow) (3.2.2)\n"
          ]
        }
      ],
      "source": [
        "pip install tensorflow"
      ]
    },
    {
      "cell_type": "code",
      "execution_count": null,
      "metadata": {
        "colab": {
          "base_uri": "https://localhost:8080/"
        },
        "id": "TTJXh694gCe7",
        "outputId": "0aba6880-28d7-4f26-8776-439eb43a7fa8"
      },
      "outputs": [
        {
          "output_type": "stream",
          "name": "stdout",
          "text": [
            "Requirement already satisfied: keras in /usr/local/lib/python3.10/dist-packages (2.12.0)\n"
          ]
        }
      ],
      "source": [
        "pip install keras"
      ]
    },
    {
      "cell_type": "code",
      "execution_count": null,
      "metadata": {
        "colab": {
          "base_uri": "https://localhost:8080/"
        },
        "id": "VwNsV9lvstE2",
        "outputId": "c495ce8d-f22e-42f2-a36d-8d02d7d04738"
      },
      "outputs": [
        {
          "output_type": "stream",
          "name": "stdout",
          "text": [
            "Requirement already satisfied: transformers in /usr/local/lib/python3.10/dist-packages (4.31.0)\n",
            "Requirement already satisfied: filelock in /usr/local/lib/python3.10/dist-packages (from transformers) (3.12.2)\n",
            "Requirement already satisfied: huggingface-hub<1.0,>=0.14.1 in /usr/local/lib/python3.10/dist-packages (from transformers) (0.16.4)\n",
            "Requirement already satisfied: numpy>=1.17 in /usr/local/lib/python3.10/dist-packages (from transformers) (1.22.4)\n",
            "Requirement already satisfied: packaging>=20.0 in /usr/local/lib/python3.10/dist-packages (from transformers) (23.1)\n",
            "Requirement already satisfied: pyyaml>=5.1 in /usr/local/lib/python3.10/dist-packages (from transformers) (6.0)\n",
            "Requirement already satisfied: regex!=2019.12.17 in /usr/local/lib/python3.10/dist-packages (from transformers) (2022.10.31)\n",
            "Requirement already satisfied: requests in /usr/local/lib/python3.10/dist-packages (from transformers) (2.27.1)\n",
            "Requirement already satisfied: tokenizers!=0.11.3,<0.14,>=0.11.1 in /usr/local/lib/python3.10/dist-packages (from transformers) (0.13.3)\n",
            "Requirement already satisfied: safetensors>=0.3.1 in /usr/local/lib/python3.10/dist-packages (from transformers) (0.3.1)\n",
            "Requirement already satisfied: tqdm>=4.27 in /usr/local/lib/python3.10/dist-packages (from transformers) (4.65.0)\n",
            "Requirement already satisfied: fsspec in /usr/local/lib/python3.10/dist-packages (from huggingface-hub<1.0,>=0.14.1->transformers) (2023.6.0)\n",
            "Requirement already satisfied: typing-extensions>=3.7.4.3 in /usr/local/lib/python3.10/dist-packages (from huggingface-hub<1.0,>=0.14.1->transformers) (4.7.1)\n",
            "Requirement already satisfied: urllib3<1.27,>=1.21.1 in /usr/local/lib/python3.10/dist-packages (from requests->transformers) (1.26.16)\n",
            "Requirement already satisfied: certifi>=2017.4.17 in /usr/local/lib/python3.10/dist-packages (from requests->transformers) (2023.5.7)\n",
            "Requirement already satisfied: charset-normalizer~=2.0.0 in /usr/local/lib/python3.10/dist-packages (from requests->transformers) (2.0.12)\n",
            "Requirement already satisfied: idna<4,>=2.5 in /usr/local/lib/python3.10/dist-packages (from requests->transformers) (3.4)\n"
          ]
        }
      ],
      "source": [
        "pip install transformers"
      ]
    },
    {
      "cell_type": "code",
      "execution_count": null,
      "metadata": {
        "colab": {
          "base_uri": "https://localhost:8080/"
        },
        "id": "ekiSXV5Ru-rW",
        "outputId": "fe3918a2-bd25-48c7-c2c7-94761ac0c68a"
      },
      "outputs": [
        {
          "output_type": "stream",
          "name": "stdout",
          "text": [
            "Requirement already satisfied: python-telegram-bot==13.4.1 in /usr/local/lib/python3.10/dist-packages (13.4.1)\n",
            "Requirement already satisfied: certifi in /usr/local/lib/python3.10/dist-packages (from python-telegram-bot==13.4.1) (2023.5.7)\n",
            "Requirement already satisfied: tornado>=5.1 in /usr/local/lib/python3.10/dist-packages (from python-telegram-bot==13.4.1) (6.3.1)\n",
            "Requirement already satisfied: APScheduler==3.6.3 in /usr/local/lib/python3.10/dist-packages (from python-telegram-bot==13.4.1) (3.6.3)\n",
            "Requirement already satisfied: pytz>=2018.6 in /usr/local/lib/python3.10/dist-packages (from python-telegram-bot==13.4.1) (2022.7.1)\n",
            "Requirement already satisfied: setuptools>=0.7 in /usr/local/lib/python3.10/dist-packages (from APScheduler==3.6.3->python-telegram-bot==13.4.1) (67.7.2)\n",
            "Requirement already satisfied: six>=1.4.0 in /usr/local/lib/python3.10/dist-packages (from APScheduler==3.6.3->python-telegram-bot==13.4.1) (1.16.0)\n",
            "Requirement already satisfied: tzlocal>=1.2 in /usr/local/lib/python3.10/dist-packages (from APScheduler==3.6.3->python-telegram-bot==13.4.1) (5.0.1)\n"
          ]
        }
      ],
      "source": [
        "pip install python-telegram-bot==13.4.1"
      ]
    },
    {
      "cell_type": "code",
      "execution_count": null,
      "metadata": {
        "id": "TCzUNSltas_V"
      },
      "outputs": [],
      "source": [
        "import torch\n",
        "import tensorflow\n",
        "from transformers import AutoTokenizer, AutoModelForQuestionAnswering\n",
        "from telegram import Update\n",
        "from telegram.ext import Updater, CommandHandler, MessageHandler, Filters, CallbackContext"
      ]
    },
    {
      "cell_type": "code",
      "execution_count": null,
      "metadata": {
        "id": "ADSlym7ca2b4",
        "colab": {
          "base_uri": "https://localhost:8080/"
        },
        "outputId": "68d53e45-9cab-44ab-90a9-632b0bd5b8c9"
      },
      "outputs": [
        {
          "output_type": "stream",
          "name": "stderr",
          "text": [
            "All TF 2.0 model weights were used when initializing BertForQuestionAnswering.\n",
            "\n",
            "All the weights of BertForQuestionAnswering were initialized from the TF 2.0 model.\n",
            "If your task is similar to the task the model of the checkpoint was trained on, you can already use BertForQuestionAnswering for predictions without further training.\n"
          ]
        },
        {
          "output_type": "stream",
          "name": "stdout",
          "text": [
            "Tokenisasi pertanyaan: ['apa', 'itu', 'umkm', '?']\n",
            "Tokenisasi konteks: ['umkm', '(', 'usaha', 'mikro', ',', 'kecil', ',', 'dan', 'menengah', ')', 'adalah', 'suatu', 'bentuk', 'usaha', 'yang', 'memiliki', 'ciri', '-', 'ciri', 'berikut', '.', '.', '.']\n",
            "Indeks token: tensor([[    2,   387,   137, 13839, 30477,     3, 13839, 30464,  1062,  6782,\n",
            "         30468,   855, 30468,    41,  3882, 30465,   154,   607,   902,  1062,\n",
            "            34,   343,  2878, 30469,  2878,   713, 30470, 30470, 30470,     3]])\n",
            "Masking attention: tensor([[1, 1, 1, 1, 1, 1, 1, 1, 1, 1, 1, 1, 1, 1, 1, 1, 1, 1, 1, 1, 1, 1, 1, 1,\n",
            "         1, 1, 1, 1, 1, 1]])\n"
          ]
        }
      ],
      "source": [
        "# Load model dan tokenizer\n",
        "model_name = \"Rifky/IndoBERT-Large-P2-QA\"\n",
        "tokenizer = AutoTokenizer.from_pretrained(model_name)\n",
        "model = AutoModelForQuestionAnswering.from_pretrained(model_name, from_tf=True)\n",
        "\n",
        "\n",
        "# Load tokenizer\n",
        "tokenizer = AutoTokenizer.from_pretrained(\"Rifky/IndoBERT-Large-P2-QA\")\n",
        "\n",
        "# Contoh teks pertanyaan\n",
        "question = \"Apa itu UMKM?\"\n",
        "\n",
        "# Contoh teks konteks\\\n",
        "context = \"UMKM (Usaha Mikro, Kecil, dan Menengah) adalah suatu bentuk usaha yang memiliki ciri-ciri berikut...\"\n",
        "\n",
        "# Tokenisasi pertanyaan\n",
        "question_tokens = tokenizer.tokenize(question)\n",
        "print(\"Tokenisasi pertanyaan:\", question_tokens)\n",
        "\n",
        "# Tokenisasi konteks\n",
        "context_tokens = tokenizer.tokenize(context)\n",
        "print(\"Tokenisasi konteks:\", context_tokens)\n",
        "\n",
        "# Encode pertanyaan dan konteks menjadi indeks token\n",
        "encoded_inputs = tokenizer.encode_plus(question, context, add_special_tokens=True, return_tensors=\"pt\")\n",
        "input_ids = encoded_inputs[\"input_ids\"]\n",
        "attention_mask = encoded_inputs[\"attention_mask\"]\n",
        "print(\"Indeks token:\", input_ids)\n",
        "print(\"Masking attention:\", attention_mask)"
      ]
    },
    {
      "cell_type": "code",
      "execution_count": null,
      "metadata": {
        "id": "8lxLxtiqbBLO",
        "colab": {
          "base_uri": "https://localhost:8080/"
        },
        "outputId": "049004be-9afe-4c37-c831-f835b607600f"
      },
      "outputs": [
        {
          "output_type": "stream",
          "name": "stdout",
          "text": [
            "Isi dataset:\n",
            "UMKM adalah usaha yang meliputi usaha mikro, kecil, dan menengah. Usaha mikro adalah usaha dengan jumlah karyawan kurang dari 10 orang dan aset tidak lebih dari Rp50 juta. Usaha kecil memiliki jumlah karyawan antara 10 hingga 50 orang dan aset antara Rp50 juta hingga Rp500 juta. Sementara itu, usaha menengah memiliki jumlah karyawan antara 51 hingga 500 orang dan aset antara Rp500 juta hingga Rp10 miliar. UMKM mencakup berbagai sektor seperti pertanian, perdagangan, jasa, industri, dan lain-lain.Usaha Mikro, Kecil, dan Menengah (UMKM) memainkan peranan yang sangat penting dalam perekonomian global. Mereka adalah tulang punggung ekonomi yang berkontribusi pada pertumbuhan ekonomi, penciptaan lapangan kerja, inovasi, dan pengurangan kesenjangan sosial. Dalam esai ini, kita akan mengeksplorasi peran UMKM dalam perekonomian dan pentingnya mereka dalam mencapai pembangunan berkelanjutan.UMKM merupakan tulang punggung ekonomi yang berperan dalam perekonomian dan pembangunan berkelanjutan. Mereka menciptakan lapangan kerja, mendorong inovasi, dan berkontribusi pada pertumbuhan ekonomi. UMKM juga berperan dalam pengurangan kesenjangan sosial dan memberdayakan kelompok marginal. Dengan adopsi praktik bisnis yang berkelanjutan, UMKM juga berpotensi untuk menjadi agen perubahan dalam keberlanjutan lingkungan. Dalam era globalisasi, UMKM dapat meningkatkan daya saing suatu negara di pasar global. Oleh karena itu, dukungan yang tepat dan lingkungan bisnis yang kondusif harus diberikan untuk memperkuat peran dan kontribusi UMKM dalam mendorong pertumbuhan dan pembangunan yang berkelanjutan.Selain kontribusi positif yang telah disebutkan sebelumnya, terdapat beberapa tantangan yang dihadapi oleh UMKM yang perlu dipahami dan ditangani untuk mendukung pertumbuhan dan keberhasilan mereka. Berikut adalah beberapa tantangan yang sering dihadapi oleh UMKM:Akses terbatas terhadap pembiayaan: Salah satu kendala utama yang dihadapi oleh UMKM adalah akses terbatas terhadap pembiayaan. Banyak UMKM sulit memperoleh pinjaman dari lembaga keuangan karena kurangnya jaminan atau riwayat kredit yang terbatas. Penting bagi pemerintah dan lembaga keuangan untuk mengembangkan solusi pembiayaan yang lebih inklusif dan terjangkau bagi UMKM.Keterbatasan sumber daya dan kapabilitas: UMKM sering kali memiliki keterbatasan sumber daya manusia, teknologi, dan manajemen. Mereka mungkin tidak memiliki keterampilan atau pengetahuan yang cukup dalam mengelola bisnis, memasarkan produk, atau mengadopsi teknologi baru. Program pelatihan dan pendampingan yang disesuaikan dengan kebutuhan UMKM dapat membantu meningkatkan kapabilitas mereka.Persaingan dengan perusahaan besar: UMKM sering kali harus bersaing dengan perusahaan besar yang memiliki keunggulan skala, sumber daya, dan jaringan yang lebih besar. Hal ini dapat menghadirkan tantangan dalam hal penetapan harga, distribusi, dan pemasaran. Pemerintah dapat menciptakan kebijakan yang adil dan lingkungan bisnis yang seimbang untuk memastikan UMKM dapat bersaing secara adil di pasar.Peraturan dan birokrasi yang kompleks: Beban peraturan dan birokrasi yang berlebihan dapat menjadi hambatan bagi pertumbuhan UMKM. Proses perizinan yang rumit, perpajakan yang kompleks, dan biaya administrasi yang tinggi dapat membebani UMKM, terutama bagi yang baru memulai. Pemerintah perlu melakukan reformasi kebijakan untuk menyederhanakan proses perizinan, mengurangi birokrasi, dan memberikan insentif yang mendukung pertumbuhan UMKM. Akses pasar yang terbatas: UMKM sering menghadapi kesulitan dalam memasuki pasar yang lebih luas, baik di dalam negeri maupun luar negeri. Mereka mungkin menghadapi kendala akses ke saluran distribusi, promosi, dan pemasaran yang efektif. Mendorong kolaborasi antara UMKM dan perusahaan besar, serta memfasilitasi akses ke platform e-commerce dan jaringan bisnis, dapat membantu UMKM mencapai pangsa pasar yang lebih besar. Dalam mengatasi tantangan ini, penting bagi pemerintah, lembaga keuangan, dan masyarakat untuk bekerja sama dalam menyediakan dukungan, pelatihan, dan kebijakan yang kondusif bagi UMKM. UMKM memiliki potensi besar untuk menggerakkan perekonomian, menciptakan lapangan kerja, dan mendorong inovasi. \n",
            "Seperti yang dijelaskan pada pengertian UMKM yang tertuang dalam Keppres RI No. 19 Tahun 1998 sebagai kegiatan ekonomi rakyat pada skala kecil yang perlu dilindungi dan dicegah dari persaingan yang tidak sehat.\n",
            "Kriteria UMKM (Usaha Mikro, Kecil dan Menengah)\n",
            "Untuk mengetahui jenis usaha apa yang sedang dijalankan perlu memperhatikan kriteria-kriterianya terlebih dahulu. Hal ini penitng digunakan untuk pengurusan surat ijin usaha kedepannya dan juga menentukan besaran pajak yang akan dibebankan kepada pemilik UMKM.Berikut masih-masing pengertian UMKM dan kriterianya:\n",
            "1. Usaha Mikro\n",
            "Pengertian usaha mikro diartikan sebagai usaha ekonomi produktif yang dimiliki perorangan maupun badan usaha sesuai dengan kriteria usaha mikro.\n",
            "Usaha yang termasuk kriteria usaha mikro adalah usaha yang memiliki kekayaan bersih mencapai Rp 50.000.000,- dan tidak termasuk bangunan dan tanah tempat usaha. Hasil penjualan usaha mikro setiap tahunnnya paling banyak Rp 300.000.000,-\n",
            "2. Usaha Kecil\n",
            "Usaha kecil merupakan suatu usaha ekonomi produktif yang independen atau berdiri sendiri baik yang dimiliki perorangan atau kelompok dan bukan sebagai badan usaha cabang dari perusahaan utama. Dikuasai dan dimiliki serta menjadi bagian baik langsung maupun tidak langsung dari usaha menengah.\n",
            "Usaha yang masuk kriteria usaha kecil adalah usaha yang memiliki kekayaan bersih Rp 50.000.000,- dengan maksimal yang dibutuhkannya mencapai Rp 500.000.000,-. Hasil penjualan bisnis setiap tahunnya antara Rp 300.000.000,- sampai paling banyak Rp 2,5.000.000.000,-.\n",
            "3. Usaha Menengah\n",
            "Pengertian usaha menengah adalah usaha dalam ekonomi produktif dan bukan merupakan cabang atau anak usaha dari perusahaan pusat serta menjadi bagian secara langsung maupun tak langsung terhadap usaha kecil atau usaha besar dengan total kekayan bersihnya sesuai yang sudah diatur dengan peraturan perundang-undangan.\n",
            "Usaha menengah sering dikategorikan sebagai bisnis besar dengan kriteria kekayaan bersih yang dimiliki pemilik usaha mencapai lebih dari Rp500.000.000,- hingga Rp10.000.000.000,- dan tidak termasuk bangunan dan tanah tempat usaha. Hasil penjualan tahunannya mencapai Rp2,5 .000.000,- milyar sampai Rp50.000.000.000,-.\n",
            "Jenis-Jenis UMKM\n",
            "1. Usaha Kuliner\n",
            "Salah satu bisnis UMKM yang paling banyak digandrungi bahkan hingga kalangan muda sekalipun. Berbekal inovasi dalam bidang makanan dan modal yang tidak terlalu besar, bisnis ini terbilang cukup menjanjikan mengingat setiap hari semua orang membutuhkan makanan.\n",
            "2. Usaha Fashion\n",
            "Selain makanan, UMKM di bidang fashion ini juga sedang diminati. Setiap tahun mode tren fashion baru selalu hadir yang tentunya meningkatkan pendapatan pelaku bisnis fashion.\n",
            "3. Usaha Agribisnis\n",
            "Siapa bilang usaha agribisnis di bidang pertanian harus bermodalkan tanah yang luas. Anda bisa memanfaatkan perkarangan rumah yang disulap menjadi lahan agrobisnis yang menguntungkan.\n",
            "\n",
            "\n",
            "\n"
          ]
        }
      ],
      "source": [
        "# Load dataset dalam format txt\n",
        "dataset_path = \"/content/drive/My Drive/Colab Notebooks/umkm.txt\"\n",
        "try:\n",
        "    with open(dataset_path, \"r\", encoding=\"utf-8\") as file:\n",
        "        dataset = file.read()\n",
        "except FileNotFoundError:\n",
        "    print(\"File not found. Please check the file path.\")\n",
        "    exit()\n",
        "\n",
        "# Menampilkan isi dataset\n",
        "print(\"Isi dataset:\")\n",
        "print(dataset)\n"
      ]
    },
    {
      "cell_type": "markdown",
      "metadata": {
        "id": "ky031omvDeAG"
      },
      "source": [
        "new training"
      ]
    },
    {
      "cell_type": "code",
      "execution_count": null,
      "metadata": {
        "id": "sla3Ksl4DjSR",
        "colab": {
          "base_uri": "https://localhost:8080/"
        },
        "outputId": "820d09ea-5e3c-415e-dcb9-4b2c1fe6397b"
      },
      "outputs": [
        {
          "output_type": "stream",
          "name": "stderr",
          "text": [
            "All TF 2.0 model weights were used when initializing BertForQuestionAnswering.\n",
            "\n",
            "All the weights of BertForQuestionAnswering were initialized from the TF 2.0 model.\n",
            "If your task is similar to the task the model of the checkpoint was trained on, you can already use BertForQuestionAnswering for predictions without further training.\n"
          ]
        },
        {
          "output_type": "stream",
          "name": "stdout",
          "text": [
            "Average F1 Score: 0.8439153439153438\n",
            "Exact Match Percentage: 66.66666666666666\n"
          ]
        }
      ],
      "source": [
        "import torch\n",
        "from transformers import AutoTokenizer, AutoModelForQuestionAnswering\n",
        "from collections import Counter\n",
        "\n",
        "# Load the pretrained model and tokenizer\n",
        "model_name = \"Rifky/IndoBERT-Large-P2-QA\"\n",
        "tokenizer = AutoTokenizer.from_pretrained(model_name)\n",
        "model = AutoModelForQuestionAnswering.from_pretrained(model_name, from_tf=True)\n",
        "\n",
        "# Evaluation dataset\n",
        "evaluation_data = [\n",
        "    {\n",
        "        \"context\": \"UMKM merupakan sektor penting dalam perekonomian Indonesia. Usaha mikro, kecil, dan menengah banyak berperan dalam menciptakan lapangan kerja dan pertumbuhan ekonomi. Salah satu contoh UMKM yang sukses di Indonesia adalah usaha kerajinan tangan yang terkenal dari daerah Jepara. Produk kerajinan tangan seperti ukiran kayu dan mebel dari Jepara telah dikenal baik di dalam maupun luar negeri.\",\n",
        "        \"question\": \"Apa contoh produk kerajinan tangan dari Jepara?\",\n",
        "        \"ground_truth\": \"ukiran kayu dan mebel\"\n",
        "    },\n",
        "    {\n",
        "        \"context\": \"Pada saat pandemi COVID-19, UMKM menghadapi banyak tantangan dalam menjalankan usahanya. Salah satu kendala yang dihadapi adalah sulitnya mendapatkan modal usaha. Pemerintah Indonesia telah memberikan berbagai dukungan untuk membantu UMKM, seperti program kredit usaha rakyat (KUR) dan bantuan modal usaha.\",\n",
        "        \"question\": \"Apa program yang disediakan pemerintah untuk membantu modal usaha UMKM?\",\n",
        "        \"ground_truth\": \"kredit usaha rakyat (KUR) dan bantuan modal usaha\"\n",
        "    },\n",
        "    {\n",
        "        \"context\": \"Pemasaran merupakan hal penting dalam mengembangkan usaha UMKM. Dalam era digital, banyak UMKM memanfaatkan media sosial sebagai sarana pemasaran. Dengan menggunakan platform seperti Instagram dan Facebook, UMKM dapat mempromosikan produknya kepada calon konsumen dengan lebih mudah dan efisien.\",\n",
        "        \"question\": \"Platform apa yang sering digunakan UMKM untuk pemasaran produk?\",\n",
        "        \"ground_truth\": \"Instagram dan Facebook\"\n",
        "    },\n",
        "    {\n",
        "        \"context\": \"UMKM di Indonesia dapat memperoleh dukungan dari berbagai lembaga dan program pemerintah. Salah satu contohnya adalah Bank Indonesia yang memiliki program 'UMKM Go Online' untuk membantu UMKM dalam memasarkan produk secara online dan meningkatkan aksesibilitas konsumen.\",\n",
        "        \"question\": \"Apa program Bank Indonesia untuk mendukung UMKM dalam memasarkan produk secara online?\",\n",
        "        \"ground_truth\": \"'UMKM Go Online'\"\n",
        "    },\n",
        "    {\n",
        "        \"context\": \"Pelatihan dan pendidikan merupakan faktor penting dalam pengembangan UMKM. Dengan pengetahuan dan keterampilan yang cukup, UMKM dapat meningkatkan kualitas produk dan inovasi bisnis. Beberapa lembaga seperti Kementerian Koperasi dan UKM menyelenggarakan program pelatihan dan pendidikan khusus untuk UMKM.\",\n",
        "        \"question\": \"Lembaga apa yang menyelenggarakan program pelatihan dan pendidikan khusus untuk UMKM?\",\n",
        "        \"ground_truth\": \"Kementerian Koperasi dan UKM\"\n",
        "    },\n",
        "    {\n",
        "        \"context\": \"Keberlanjutan adalah aspek penting yang perlu diperhatikan dalam pengembangan UMKM. UMKM yang berfokus pada praktik bisnis yang berkelanjutan dan ramah lingkungan dapat mendapatkan manfaat jangka panjang. Misalnya, UMKM yang menggunakan bahan baku daur ulang atau praktik produksi yang hemat energi.\",\n",
        "        \"question\": \"Apa manfaat jangka panjang bagi UMKM yang berfokus pada praktik bisnis yang berkelanjutan dan ramah lingkungan?\",\n",
        "        \"ground_truth\": \"manfaat jangka panjang\"\n",
        "    }\n",
        "]\n",
        "\n",
        "f1_scores = []\n",
        "exact_match = 0\n",
        "\n",
        "for example in evaluation_data:\n",
        "    context = example[\"context\"]\n",
        "    question = example[\"question\"]\n",
        "    ground_truth = example[\"ground_truth\"]\n",
        "\n",
        "    # Tokenize the context and question\n",
        "    inputs = tokenizer.encode_plus(question, context, return_tensors=\"pt\", max_length=512, truncation=True)\n",
        "\n",
        "    # Get the model's predicted answer\n",
        "    with torch.no_grad():\n",
        "        outputs = model(**inputs)\n",
        "        start_scores = outputs.start_logits\n",
        "        end_scores = outputs.end_logits\n",
        "\n",
        "    # Find the start and end indices of the predicted answer\n",
        "    start_index = torch.argmax(start_scores)\n",
        "    end_index = torch.argmax(end_scores)\n",
        "\n",
        "    # Convert token indices to tokens\n",
        "    tokens = tokenizer.convert_ids_to_tokens(inputs[\"input_ids\"].squeeze().tolist())\n",
        "    answer = ' '.join(tokens[start_index:end_index + 1]).replace(\"Ġ\", \"\").strip()\n",
        "\n",
        "    # Calculate F1 score\n",
        "    common = Counter(answer.lower().split()) & Counter(ground_truth.lower().split())\n",
        "    num_common = sum(common.values())\n",
        "    if num_common == 0:\n",
        "        f1_score = 0\n",
        "    else:\n",
        "        precision = num_common / len(answer.split())\n",
        "        recall = num_common / len(ground_truth.split())\n",
        "        f1_score = 2 * (precision * recall) / (precision + recall)\n",
        "    f1_scores.append(f1_score)\n",
        "\n",
        "    # Check if the predicted answer is an exact match\n",
        "    if answer.lower() == ground_truth.lower():\n",
        "        exact_match += 1\n",
        "\n",
        "# Calculate average F1 score\n",
        "avg_f1_score = sum(f1_scores) / len(f1_scores)\n",
        "\n",
        "# Calculate EM percentage\n",
        "em_percentage = (exact_match / len(evaluation_data)) * 100\n",
        "\n",
        "print(\"Average F1 Score:\", avg_f1_score)\n",
        "print(\"Exact Match Percentage:\", em_percentage)\n"
      ]
    },
    {
      "cell_type": "code",
      "execution_count": null,
      "metadata": {
        "id": "N_khYRj9twV-"
      },
      "outputs": [],
      "source": [
        "# Fungsi untuk membagi teks menjadi bagian-bagian yang lebih kecil\n",
        "def split_text(teks, max_length):\n",
        "    bagian_teks = []\n",
        "    awal = 0\n",
        "    while awal < len(teks):\n",
        "        bagian = teks[awal: awal + max_length]\n",
        "        bagian_teks.append(bagian)\n",
        "        awal += max_length\n",
        "    return bagian_teks\n"
      ]
    },
    {
      "cell_type": "code",
      "execution_count": null,
      "metadata": {
        "id": "et6CMlbObLQK",
        "colab": {
          "base_uri": "https://localhost:8080/"
        },
        "outputId": "d7f7da5a-dbee-447e-8d8e-d5818f273464"
      },
      "outputs": [
        {
          "output_type": "stream",
          "name": "stdout",
          "text": [
            "Answer: usaha mikro, kecil, dan menengah )\n"
          ]
        }
      ],
      "source": [
        "# Fungsi untuk menjawab pertanyaan\n",
        "def answer_question(question, context):\n",
        "    # Pra-pemrosesan pertanyaan\n",
        "    encoded_inputs = tokenizer.encode_plus(question, context, add_special_tokens=True, return_tensors=\"pt\")\n",
        "    input_ids = encoded_inputs[\"input_ids\"]\n",
        "    attention_mask = encoded_inputs[\"attention_mask\"]\n",
        "\n",
        "    # Melakukan prediksi jawaban\n",
        "    outputs = model(input_ids=input_ids, attention_mask=attention_mask)\n",
        "    start_scores = outputs.start_logits\n",
        "    end_scores = outputs.end_logits\n",
        "\n",
        "    # Mengambil indeks awal dan akhir jawaban yang memiliki skor tertinggi\n",
        "    start_index = torch.argmax(start_scores)\n",
        "    end_index = torch.argmax(end_scores)\n",
        "\n",
        "    # Mengkonversi indeks token menjadi teks jawaban\n",
        "    tokens = tokenizer.convert_ids_to_tokens(input_ids[0])\n",
        "    answer = tokenizer.convert_tokens_to_string(tokens[start_index : end_index + 1])\n",
        "\n",
        "    return answer\n",
        "\n",
        " # Test the model\n",
        "question = \"Apa itu UMKM?\"\n",
        "context = \"UMKM (Usaha Mikro, Kecil, dan Menengah) adalah suatu bentuk usaha yang memiliki ciri-ciri berikut...\"\n",
        "answer = answer_question(question, context)\n",
        "print(\"Answer:\", answer)"
      ]
    },
    {
      "cell_type": "code",
      "execution_count": null,
      "metadata": {
        "id": "W2GB-8wbbYSC"
      },
      "outputs": [],
      "source": [
        "# Fungsi untuk menghandle pertanyaan dari pengguna\n",
        "def handle_question(update: Update, context: CallbackContext):\n",
        "    question = update.message.text\n",
        "\n",
        "    # Memanggil fungsi answer_question untuk mendapatkan jawaban\n",
        "    answer_parts = []\n",
        "    text_parts = split_text(dataset, max_length=512)\n",
        "    for part in text_parts:\n",
        "        answer_part = answer_question(question, part)\n",
        "        answer_parts.append(answer_part)\n",
        "\n",
        "    # Menggabungkan jawaban dari bagian-bagian teks\n",
        "    answer = \" \".join(answer_parts)\n",
        "\n",
        "    # Mengirim jawaban ke pengguna\n",
        "    if answer.strip():\n",
        "        context.bot.send_message(chat_id=update.effective_chat.id, text=answer)\n",
        "    else:\n",
        "        context.bot.send_message(chat_id=update.effective_chat.id, text=\"Maaf, Mas UMKM tidak dapat menemukan jawaban,coba pertanyaan lain.\")"
      ]
    },
    {
      "cell_type": "code",
      "execution_count": null,
      "metadata": {
        "id": "vMvBFqiks7JY"
      },
      "outputs": [],
      "source": [
        "# Fungsi untuk menjalankan chatbot\n",
        "def main():\n",
        "    # Inisialisasi updater\n",
        "    updater = Updater(token=\"6220994340:AAGQYsBWe6TI01aeZHyq0OL7Dm2deIqSTVw\", use_context=True)\n",
        "\n",
        "    # Menambahkan handler untuk command start\n",
        "    def start(update: Update, context: CallbackContext):\n",
        "        context.bot.send_message(chat_id=update.effective_chat.id, text=\"Halo Mas UMKM disini, silahkan ajukan pertanyaan anda.\")\n",
        "    updater.dispatcher.add_handler(CommandHandler(\"start\", start))\n",
        "\n",
        "    # Menambahkan handler untuk menerima pertanyaan dari pengguna\n",
        "    updater.dispatcher.add_handler(MessageHandler(Filters.text & ~Filters.command, handle_question))\n",
        "\n",
        "    # Menjalankan bot\n",
        "    updater.start_polling()\n",
        "    updater.idle()\n",
        "\n",
        "if __name__ == \"__main__\":\n",
        "    main()\n",
        "\n"
      ]
    }
  ],
  "metadata": {
    "colab": {
      "provenance": []
    },
    "kernelspec": {
      "display_name": "Python 3",
      "name": "python3"
    },
    "language_info": {
      "name": "python"
    }
  },
  "nbformat": 4,
  "nbformat_minor": 0
}